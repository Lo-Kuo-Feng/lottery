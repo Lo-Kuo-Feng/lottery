{
 "cells": [
  {
   "cell_type": "code",
   "execution_count": 8,
   "metadata": {},
   "outputs": [],
   "source": [
    "from scipy.special import factorial, perm, comb\n",
    "from itertools import combinations, permutations\n",
    "import random\n",
    "\n",
    "def buy_a_lottery(total_ball=49, ball=6):\n",
    "    \"\"\"隨機製造一次要買樂透的號碼\"\"\"\n",
    "    lottery = random.sample(list(range(1,total_ball+1)), ball)\n",
    "    lottery.sort()\n",
    "    return lottery\n",
    "\n",
    "def winning_numbers(total_ball=49, ball=6):\n",
    "    \"\"\"隨機製造一次樂透開獎的號碼\"\"\"\n",
    "    wn = random.sample(list(range(1,total_ball+1)), ball)\n",
    "    wn.sort()\n",
    "    return wn\n",
    "\n",
    "def statistics_winning(times=4000, lotb=49, lob=6, wntb=49, wnb=6,\n",
    "                       bonus_0=0, bonus_1=0, bonus_2=0, bonus_3=400, bonus_4=1000, bonus_5=10000, bonus_6=100000000):\n",
    "    \"\"\"輸入買樂透的次數，統計開獎結果\"\"\"\n",
    "    statistics = []\n",
    "    for t in range(times):\n",
    "        lottery = buy_a_lottery(total_ball=lotb, ball=lob)\n",
    "        wn = winning_numbers(total_ball=wntb, ball=wnb) \n",
    "        n = 0\n",
    "        for w in wn:\n",
    "            n += (w in lottery)\n",
    "        statistics.append(n)\n",
    "    print(\"開獎號碼:\",wn)\n",
    "    print(\"共買幾張:\",times)\n",
    "    print(\"最高中獎號碼數:\",max(statistics))\n",
    "    print(\"中6個號碼幾次:\",statistics.count(6))\n",
    "    print(\"中5個號碼幾次:\",statistics.count(5))\n",
    "    print(\"中4個號碼幾次:\",statistics.count(4))\n",
    "    print(\"中3個號碼幾次:\",statistics.count(3))\n",
    "    print(\"中2個號碼幾次:\",statistics.count(2))\n",
    "    print(\"中1個號碼幾次:\",statistics.count(1))\n",
    "    print(\"中0個號碼幾次:\",statistics.count(0))\n",
    "    print(\"共花:\",times*50)\n",
    "    print(\"約賺:\",statistics.count(0)*bonus_0 + statistics.count(1)*bonus_1 + statistics.count(2)*bonus_2 +\n",
    "          statistics.count(3)*bonus_3 + statistics.count(4)*bonus_4 + statistics.count(5)*bonus_5 + \n",
    "          statistics.count(6)*bonus_6)\n",
    "    return statistics.count(6), statistics.count(5), statistics.count(4), statistics.count(3),\\\n",
    "           statistics.count(2), statistics.count(1), statistics.count(0)"
   ]
  },
  {
   "cell_type": "code",
   "execution_count": 2,
   "metadata": {},
   "outputs": [
    {
     "name": "stdout",
     "output_type": "stream",
     "text": [
      "開獎號碼: [12, 19, 27, 28, 42, 48]\n",
      "共買幾張: 4000\n",
      "最高中獎號碼數: 4\n",
      "中6個號碼幾次: 0\n",
      "中5個號碼幾次: 0\n",
      "中4個號碼幾次: 2\n",
      "中3個號碼幾次: 63\n",
      "中2個號碼幾次: 503\n",
      "中1個號碼幾次: 1631\n",
      "中0個號碼幾次: 1801\n",
      "共花: 200000\n",
      "約賺: 27200\n"
     ]
    }
   ],
   "source": [
    "s6, s5, s4, s3, s2, s1, s0 = statistics_winning(times=4000, lotb=49, lob=6, wntb=49, wnb=6)"
   ]
  }
 ],
 "metadata": {
  "kernelspec": {
   "display_name": "Python 3",
   "language": "python",
   "name": "python3"
  },
  "language_info": {
   "codemirror_mode": {
    "name": "ipython",
    "version": 3
   },
   "file_extension": ".py",
   "mimetype": "text/x-python",
   "name": "python",
   "nbconvert_exporter": "python",
   "pygments_lexer": "ipython3",
   "version": "3.6.3"
  }
 },
 "nbformat": 4,
 "nbformat_minor": 2
}
