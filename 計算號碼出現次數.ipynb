{
 "cells": [
  {
   "cell_type": "markdown",
   "metadata": {},
   "source": [
    "[random — 你所不知道的 Python 標準函式庫用法 02](https://blog.louie.lu/2017/07/27/random-python-standard-library-02/)"
   ]
  },
  {
   "cell_type": "code",
   "execution_count": 1,
   "metadata": {
    "collapsed": true
   },
   "outputs": [],
   "source": [
    "import random"
   ]
  },
  {
   "cell_type": "code",
   "execution_count": 2,
   "metadata": {},
   "outputs": [],
   "source": [
    "list_ = random.choices(range(1, 7), k=10)  # Repeated extraction"
   ]
  },
  {
   "cell_type": "markdown",
   "metadata": {},
   "source": [
    "### 產生樂透數據"
   ]
  },
  {
   "cell_type": "code",
   "execution_count": 3,
   "metadata": {},
   "outputs": [],
   "source": [
    "times = 100  # Generate 100 lottery data\n",
    "\n",
    "sample_list = []\n",
    "for i in range(times):\n",
    "    sample_list.append(random.sample(range(1, 50), k=6))"
   ]
  },
  {
   "cell_type": "markdown",
   "metadata": {},
   "source": [
    "### 計算號碼出現次數"
   ]
  },
  {
   "cell_type": "code",
   "execution_count": 4,
   "metadata": {},
   "outputs": [
    {
     "name": "stdout",
     "output_type": "stream",
     "text": [
      "1 次數: 13\n",
      "2 次數: 12\n",
      "3 次數: 12\n",
      "4 次數: 11\n",
      "5 次數: 17\n",
      "6 次數: 10\n",
      "7 次數: 14\n",
      "8 次數: 14\n",
      "9 次數: 12\n",
      "10 次數: 8\n",
      "11 次數: 10\n",
      "12 次數: 15\n",
      "13 次數: 14\n",
      "14 次數: 11\n",
      "15 次數: 11\n",
      "16 次數: 13\n",
      "17 次數: 16\n",
      "18 次數: 9\n",
      "19 次數: 11\n",
      "20 次數: 21\n",
      "21 次數: 8\n",
      "22 次數: 13\n",
      "23 次數: 14\n",
      "24 次數: 12\n",
      "25 次數: 11\n",
      "26 次數: 10\n",
      "27 次數: 17\n",
      "28 次數: 11\n",
      "29 次數: 9\n",
      "30 次數: 12\n",
      "31 次數: 9\n",
      "32 次數: 11\n",
      "33 次數: 11\n",
      "34 次數: 13\n",
      "35 次數: 22\n",
      "36 次數: 9\n",
      "37 次數: 12\n",
      "38 次數: 12\n",
      "39 次數: 12\n",
      "40 次數: 8\n",
      "41 次數: 5\n",
      "42 次數: 12\n",
      "43 次數: 14\n",
      "44 次數: 9\n",
      "45 次數: 11\n",
      "46 次數: 14\n",
      "47 次數: 12\n",
      "48 次數: 20\n",
      "49 次數: 13\n"
     ]
    }
   ],
   "source": [
    "sample_list = sample_list[:]\n",
    "\n",
    "number_count = []\n",
    "for number in range(1, 50):\n",
    "\n",
    "    count = 0\n",
    "    for i in range(len(sample_list)):\n",
    "        count += sample_list[i].count(number)\n",
    "    print(number, \"次數:\", count)\n",
    "    number_count.append(count)"
   ]
  },
  {
   "cell_type": "code",
   "execution_count": null,
   "metadata": {
    "collapsed": true
   },
   "outputs": [],
   "source": []
  }
 ],
 "metadata": {
  "kernelspec": {
   "display_name": "Python 3",
   "language": "python",
   "name": "python3"
  },
  "language_info": {
   "codemirror_mode": {
    "name": "ipython",
    "version": 3
   },
   "file_extension": ".py",
   "mimetype": "text/x-python",
   "name": "python",
   "nbconvert_exporter": "python",
   "pygments_lexer": "ipython3",
   "version": "3.6.3"
  }
 },
 "nbformat": 4,
 "nbformat_minor": 2
}
